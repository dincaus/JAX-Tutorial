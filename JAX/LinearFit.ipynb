{
 "cells": [
  {
   "cell_type": "code",
   "id": "initial_id",
   "metadata": {
    "collapsed": true,
    "ExecuteTime": {
     "end_time": "2024-05-04T17:04:40.878592Z",
     "start_time": "2024-05-04T17:04:40.872024Z"
    }
   },
   "source": "%matplotlib inline",
   "outputs": [],
   "execution_count": 43
  },
  {
   "metadata": {
    "ExecuteTime": {
     "end_time": "2024-05-04T16:57:13.652545Z",
     "start_time": "2024-05-04T16:57:13.644627Z"
    }
   },
   "cell_type": "code",
   "source": [
    "import jax\n",
    "import numpy as np\n",
    "import seaborn as sns\n",
    "import jax.numpy as jnp\n",
    "\n",
    "import matplotlib.pyplot as plt\n",
    "import ipywidgets as widgets\n",
    "\n",
    "from IPython.display import display\n",
    "from ipywidgets import VBox, HBox, interactive_output\n",
    "\n",
    "from sklearn.utils import gen_batches\n",
    "from sklearn.linear_model import LinearRegression\n",
    "from sklearn.datasets import make_regression\n",
    "from jax import random, grad, lax, make_jaxpr, jit, vmap, value_and_grad\n",
    "\n",
    "np.random.seed(69)"
   ],
   "id": "32267a017afab226",
   "outputs": [],
   "execution_count": 15
  },
  {
   "metadata": {
    "ExecuteTime": {
     "end_time": "2024-05-04T17:06:59.649869Z",
     "start_time": "2024-05-04T17:06:59.639022Z"
    }
   },
   "cell_type": "code",
   "source": [
    "def model(w, b, X):\n",
    "    return jnp.dot(X, w) + b\n",
    "\n",
    "@jit\n",
    "def loss_fn(w, b, X, y):    \n",
    "    y_hat = model(w, b, X)\n",
    "    \n",
    "    return jnp.sqrt(jnp.mean((y - y_hat)**2))\n",
    "\n",
    "\n",
    "def update(w, b, X, y, lr=0.01):\n",
    "    grad_fn = value_and_grad(loss_fn, argnums=(0, 1))\n",
    "    loss_val, (grad_w, grad_b) = grad_fn(w, b, X, y)\n",
    "    \n",
    "    return w - lr * grad_w, b - lr * grad_b, loss_val\n",
    "\n",
    "\n",
    "def generate_data(num_points, noise_level, random_state: int = 69):\n",
    "    return make_regression(\n",
    "        n_features=1,\n",
    "        n_informative=1,\n",
    "        n_samples=num_points,\n",
    "        noise=noise_level,\n",
    "        random_state=random_state\n",
    "    )\n",
    "\n",
    "\n",
    "def show(\n",
    "        number_of_samples: int,\n",
    "        noise: float = 0.01,        \n",
    "        iterations: int = 100,\n",
    "        lr: float = 0.01,        \n",
    "        seed: int = 69\n",
    "):\n",
    "    dataset, target = generate_data(\n",
    "        num_points=number_of_samples,\n",
    "        noise_level=noise,\n",
    "        random_state=seed\n",
    "    )\n",
    "    dataset = jnp.array(dataset).astype(jnp.float32)\n",
    "    target = jnp.array(target).astype(jnp.float32)\n",
    "    \n",
    "    # random coefficients\n",
    "    key = random.PRNGKey(seed)\n",
    "    key, subkey = random.split(key)\n",
    "    \n",
    "    losses = []\n",
    "    w = random.normal(key, (1, ), dtype=jnp.float32)\n",
    "    b = random.normal(subkey, dtype=jnp.float32)\n",
    "    \n",
    "    for _ in range(iterations):\n",
    "        w, b, loss_val = update(w, b, dataset, target, lr=lr)\n",
    "        losses.append(loss_val)\n",
    "    \n",
    "    # plot regression\n",
    "    x_regression_line = jnp.linspace(dataset.min(), dataset.max(), number_of_samples).reshape(-1, 1)\n",
    "    y_regression_line = model(w, b, x_regression_line)\n",
    "    \n",
    "    fig, ax = plt.subplots(1, 2, figsize=(14, 6))\n",
    "    \n",
    "    ax[0].scatter(dataset, target, color='orange', label='data', s=10)\n",
    "    ax[0].plot(x_regression_line, y_regression_line, color='blue', label='regression line')\n",
    "    ax[0].legend()\n",
    "    \n",
    "    ax[0].set_xlabel('X')\n",
    "    ax[0].set_ylabel('y')\n",
    "    \n",
    "    ax[1].plot(np.arange(len(losses)), losses, color='purple', label=\"loss\")\n",
    "    ax[1].set_xlabel('Iterations')\n",
    "    ax[1].set_ylabel('Loss')\n",
    "    ax[1].legend()\n",
    "    \n",
    "    plt.show()"
   ],
   "id": "b1f23d7e5e9a5305",
   "outputs": [],
   "execution_count": 50
  },
  {
   "metadata": {
    "ExecuteTime": {
     "end_time": "2024-05-04T17:07:00.461708Z",
     "start_time": "2024-05-04T17:06:59.902934Z"
    }
   },
   "cell_type": "code",
   "source": [
    "NUMBER_OF_SAMPLES_SLIDER = widgets.IntSlider(\n",
    "    value=300,\n",
    "    min=10, \n",
    "    max=5_000, \n",
    "    step=10, \n",
    "    description='Number of samples',\n",
    "    continuous_update=False,\n",
    "    style={'description_width': 'initial'}\n",
    ")\n",
    "\n",
    "NOISE_SLIDER = widgets.FloatSlider(\n",
    "    value=20.0,\n",
    "    min=0.1, max=1000.0, \n",
    "    step=0.05, \n",
    "    description='Noise',\n",
    "    continuous_update=False,\n",
    "    style={'description_width': 'initial'}\n",
    ")\n",
    "\n",
    "### Model parameters\n",
    "\n",
    "ITERATIONS_SLIDER = widgets.IntSlider(\n",
    "    value=300,\n",
    "    min=10, max=10_000, \n",
    "    step=10, \n",
    "    description='Iterations',\n",
    "    continuous_update=False,\n",
    "    style={'description_width': 'initial'}\n",
    ")\n",
    "\n",
    "LEARNING_RATE_FLOAT = widgets.BoundedFloatText(\n",
    "    value=0.1,\n",
    "    min=1e-6, max=10.0, \n",
    "    step=0.001, \n",
    "    description='Learning rate',\n",
    "    continuous_update=False,\n",
    "    style={'description_width': 'initial'}\n",
    ")\n",
    "\n",
    "SEED_ITERATION = widgets.IntSlider(\n",
    "    value=69,\n",
    "    min=0, max=2_000, \n",
    "    step=1, \n",
    "    description='Seed',\n",
    "    continuous_update=False,\n",
    "    style={'description_width': 'initial'}\n",
    ")\n",
    "\n",
    "poly_fit_reg_out = interactive_output(\n",
    "    show,\n",
    "    {\n",
    "        'number_of_samples': NUMBER_OF_SAMPLES_SLIDER,\n",
    "        'noise': NOISE_SLIDER,\n",
    "        'iterations': ITERATIONS_SLIDER,\n",
    "        'lr': LEARNING_RATE_FLOAT,\n",
    "        'seed': SEED_ITERATION\n",
    "    }\n",
    ")\n",
    "\n",
    "display(\n",
    "    HBox([\n",
    "        VBox([\n",
    "            NUMBER_OF_SAMPLES_SLIDER,\n",
    "            NOISE_SLIDER,\n",
    "        ], layout=widgets.Layout(width='30%')),\n",
    "        VBox([\n",
    "            ITERATIONS_SLIDER,\n",
    "            LEARNING_RATE_FLOAT,\n",
    "            SEED_ITERATION\n",
    "        ], layout=widgets.Layout(width='30%')),        \n",
    "    ], layout=widgets.Layout(width='100%')),\n",
    "    poly_fit_reg_out\n",
    ")"
   ],
   "id": "1a5aaa07d8fbc655",
   "outputs": [
    {
     "data": {
      "text/plain": [
       "HBox(children=(VBox(children=(IntSlider(value=300, continuous_update=False, description='Number of samples', m…"
      ],
      "application/vnd.jupyter.widget-view+json": {
       "version_major": 2,
       "version_minor": 0,
       "model_id": "132c10d5a09d431e94ab20ccfb3797f2"
      }
     },
     "metadata": {},
     "output_type": "display_data"
    },
    {
     "data": {
      "text/plain": [
       "Output()"
      ],
      "application/vnd.jupyter.widget-view+json": {
       "version_major": 2,
       "version_minor": 0,
       "model_id": "148a098c517048b1af2d7d4cb58e183f"
      }
     },
     "metadata": {},
     "output_type": "display_data"
    }
   ],
   "execution_count": 51
  },
  {
   "metadata": {},
   "cell_type": "code",
   "outputs": [],
   "execution_count": null,
   "source": "",
   "id": "b43599e167f159b2"
  }
 ],
 "metadata": {
  "kernelspec": {
   "display_name": "jax",
   "language": "python",
   "name": "jax"
  },
  "language_info": {
   "codemirror_mode": {
    "name": "ipython",
    "version": 2
   },
   "file_extension": ".py",
   "mimetype": "text/x-python",
   "name": "python",
   "nbconvert_exporter": "python",
   "pygments_lexer": "ipython2",
   "version": "2.7.6"
  }
 },
 "nbformat": 4,
 "nbformat_minor": 5
}
